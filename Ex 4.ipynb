{
 "cells": [
  {
   "cell_type": "markdown",
   "source": [
    "https://github.com/XD-DENG/SQL-exercise/tree/master/SQL_exercise_04"
   ],
   "metadata": {
    "collapsed": false
   }
  },
  {
   "cell_type": "code",
   "execution_count": 2,
   "outputs": [
    {
     "ename": "OperationalError",
     "evalue": "database is locked",
     "output_type": "error",
     "traceback": [
      "\u001B[1;31m---------------------------------------------------------------------------\u001B[0m",
      "\u001B[1;31mOperationalError\u001B[0m                          Traceback (most recent call last)",
      "Cell \u001B[1;32mIn[2], line 44\u001B[0m\n\u001B[0;32m     42\u001B[0m \u001B[38;5;28;01mfor\u001B[39;00m statement \u001B[38;5;129;01min\u001B[39;00m statements:\n\u001B[0;32m     43\u001B[0m     \u001B[38;5;28;01mif\u001B[39;00m statement\u001B[38;5;241m.\u001B[39mstrip() \u001B[38;5;241m!=\u001B[39m \u001B[38;5;124m'\u001B[39m\u001B[38;5;124m'\u001B[39m:\n\u001B[1;32m---> 44\u001B[0m         cur\u001B[38;5;241m.\u001B[39mexecute(statement)\n\u001B[0;32m     46\u001B[0m \u001B[38;5;66;03m# -- https://en.wikibooks.org/wiki/SQL_Exercises/Movie_theatres\u001B[39;00m\n\u001B[0;32m     47\u001B[0m \u001B[38;5;66;03m# -- 4.1 Select the title of all movies.\u001B[39;00m\n\u001B[0;32m     48\u001B[0m \u001B[38;5;66;03m# cur.execute('select title from movies ')\u001B[39;00m\n\u001B[1;32m   (...)\u001B[0m\n\u001B[0;32m     57\u001B[0m \u001B[38;5;66;03m# -- 4.9 Set the rating of all unrated movies to \"G\".\u001B[39;00m\n\u001B[0;32m     58\u001B[0m \u001B[38;5;66;03m# -- 4.10 Remove movie theaters projecting movies rated \"NC-17\".\u001B[39;00m\n\u001B[0;32m     61\u001B[0m lines \u001B[38;5;241m=\u001B[39m cur\u001B[38;5;241m.\u001B[39mfetchall()\n",
      "\u001B[1;31mOperationalError\u001B[0m: database is locked"
     ]
    }
   ],
   "source": [
    "import sqlite3\n",
    "import pandas as pd\n",
    "\n",
    "conn = sqlite3.connect('SQLite_Python.db')\n",
    "\n",
    "# Create a cursor\n",
    "cur = conn.cursor()\n",
    "\n",
    "# Create tables\n",
    "cur.execute('''CREATE TABLE IF NOT EXISTS Movies (\n",
    "  Code INTEGER PRIMARY KEY,\n",
    "  Title VARCHAR(255) NOT NULL,\n",
    "  Rating VARCHAR(255)\n",
    ");''')\n",
    "cur.execute('''CREATE TABLE IF NOT EXISTS MovieTheaters (\n",
    "  Code INTEGER PRIMARY KEY,\n",
    "  Name VARCHAR(255) NOT NULL,\n",
    "  Movie INTEGER,\n",
    "    FOREIGN KEY (Movie) REFERENCES Movies(Code)\n",
    ");''')\n",
    "\n",
    "# Define the SQL script as a multi-line string\n",
    "sql_script = '''INSERT INTO Movies(Code,Title,Rating) VALUES(1,'Citizen Kane','PG');\n",
    "                INSERT INTO Movies(Code,Title,Rating) VALUES(2,'Singing in the Rain','G');\n",
    "                INSERT INTO Movies(Code,Title,Rating) VALUES(3,'The Wizard of Oz','G');\n",
    "                INSERT INTO Movies(Code,Title,Rating) VALUES(4,'The Quiet Man',NULL);\n",
    "                INSERT INTO Movies(Code,Title,Rating) VALUES(5,'North by Northwest',NULL);\n",
    "                INSERT INTO Movies(Code,Title,Rating) VALUES(6,'The Last Tango in Paris','NC-17');\n",
    "                INSERT INTO Movies(Code,Title,Rating) VALUES(7,'Some Like it Hot','PG-13');\n",
    "                INSERT INTO Movies(Code,Title,Rating) VALUES(8,'A Night at the Opera',NULL);\n",
    "                INSERT INTO MovieTheaters(Code,Name,Movie) VALUES(1,'Odeon',5);\n",
    "                INSERT INTO MovieTheaters(Code,Name,Movie) VALUES(2,'Imperial',1);\n",
    "                INSERT INTO MovieTheaters(Code,Name,Movie)VALUES(3,'Majestic',NULL);\n",
    "                INSERT INTO MovieTheaters(Code,Name,Movie) VALUES(4,'Royale',6);\n",
    "                INSERT INTO MovieTheaters(Code,Name,Movie) VALUES(5,'Paraiso',3);\n",
    "                INSERT INTO MovieTheaters(Code,Name,Movie) VALUES(6,'Nickelodeon',NULL);'''\n",
    "\n",
    "# Split the SQL script into individual statements using semicolon as delimiter\n",
    "statements = sql_script.split(';')\n",
    "\n",
    "# Execute each statement in the script\n",
    "for statement in statements:\n",
    "    if statement.strip() != '':\n",
    "        cur.execute(statement)\n",
    "\n",
    "# -- https://en.wikibooks.org/wiki/SQL_Exercises/Movie_theatres\n",
    "# -- 4.1 Select the title of all movies.\n",
    "# cur.execute('select title from movies ')\n",
    "# -- 4.2 Show all the distinct ratings in the database.\n",
    "# -- 4.3  Show all unrated movies.\n",
    "# -- 4.4 Select all movie theaters that are not currently showing a movie.\n",
    "# -- 4.5 Select all data from all movie theaters\n",
    "# -- and, additionally, the data from the movie that is being shown in the theater (if one is being shown).\n",
    "# -- 4.6 Select all data from all movies and, if that movie is being shown in a theater, show the data from the theater.\n",
    "# -- 4.7 Show the titles of movies not currently being shown in any theaters.\n",
    "# -- 4.8 Add the unrated movie \"One, Two, Three\".\n",
    "# -- 4.9 Set the rating of all unrated movies to \"G\".\n",
    "# -- 4.10 Remove movie theaters projecting movies rated \"NC-17\".\n",
    "\n",
    "\n",
    "lines = cur.fetchall()\n",
    "query = pd.DataFrame(list(line) for line in lines)\n",
    "print(query)\n",
    "\n",
    "# Commit our command\n",
    "conn.commit()\n",
    "# Close our connection\n",
    "conn.close()\n"
   ],
   "metadata": {
    "collapsed": false,
    "ExecuteTime": {
     "end_time": "2023-06-01T05:06:30.978812100Z",
     "start_time": "2023-06-01T05:06:25.431450100Z"
    }
   }
  },
  {
   "cell_type": "code",
   "execution_count": null,
   "outputs": [],
   "source": [],
   "metadata": {
    "collapsed": false
   }
  }
 ],
 "metadata": {
  "kernelspec": {
   "display_name": "Python 3",
   "language": "python",
   "name": "python3"
  },
  "language_info": {
   "codemirror_mode": {
    "name": "ipython",
    "version": 2
   },
   "file_extension": ".py",
   "mimetype": "text/x-python",
   "name": "python",
   "nbconvert_exporter": "python",
   "pygments_lexer": "ipython2",
   "version": "2.7.6"
  }
 },
 "nbformat": 4,
 "nbformat_minor": 0
}

{
 "cells": [
  {
   "cell_type": "markdown",
   "source": [
    "https://github.com/XD-DENG/SQL-exercise/tree/master/SQL_exercise_02"
   ],
   "metadata": {
    "collapsed": false
   }
  },
  {
   "cell_type": "code",
   "execution_count": 4,
   "outputs": [
    {
     "ename": "IntegrityError",
     "evalue": "UNIQUE constraint failed: Departments.Code",
     "output_type": "error",
     "traceback": [
      "\u001B[1;31m---------------------------------------------------------------------------\u001B[0m",
      "\u001B[1;31mIntegrityError\u001B[0m                            Traceback (most recent call last)",
      "Cell \u001B[1;32mIn[4], line 24\u001B[0m\n\u001B[0;32m     15\u001B[0m cur\u001B[38;5;241m.\u001B[39mexecute(\u001B[38;5;124m'''\u001B[39m\u001B[38;5;124mCREATE TABLE IF NOT EXISTS Employees (\u001B[39m\n\u001B[0;32m     16\u001B[0m \u001B[38;5;124m  SSN INTEGER PRIMARY KEY,\u001B[39m\n\u001B[0;32m     17\u001B[0m \u001B[38;5;124m  Name varchar(255) NOT NULL ,\u001B[39m\n\u001B[1;32m   (...)\u001B[0m\n\u001B[0;32m     20\u001B[0m \u001B[38;5;124m  foreign key (department) references Departments(Code)\u001B[39m\n\u001B[0;32m     21\u001B[0m \u001B[38;5;124m)\u001B[39m\u001B[38;5;124m'''\u001B[39m)\n\u001B[0;32m     23\u001B[0m \u001B[38;5;66;03m# Insert the SQL commands\u001B[39;00m\n\u001B[1;32m---> 24\u001B[0m cur\u001B[38;5;241m.\u001B[39mexecute(\u001B[38;5;124m\"\u001B[39m\u001B[38;5;124mINSERT INTO Departments(Code, Name, Budget) VALUES(14, \u001B[39m\u001B[38;5;124m'\u001B[39m\u001B[38;5;124mIT\u001B[39m\u001B[38;5;124m'\u001B[39m\u001B[38;5;124m, 65000);\u001B[39m\u001B[38;5;124m\"\u001B[39m)\n\u001B[0;32m     25\u001B[0m cur\u001B[38;5;241m.\u001B[39mexecute(\u001B[38;5;124m\"\u001B[39m\u001B[38;5;124mINSERT INTO Departments(Code, Name, Budget) VALUES(37, \u001B[39m\u001B[38;5;124m'\u001B[39m\u001B[38;5;124mAccounting\u001B[39m\u001B[38;5;124m'\u001B[39m\u001B[38;5;124m, 15000);\u001B[39m\u001B[38;5;124m\"\u001B[39m)\n\u001B[0;32m     26\u001B[0m cur\u001B[38;5;241m.\u001B[39mexecute(\u001B[38;5;124m\"\u001B[39m\u001B[38;5;124mINSERT INTO Departments(Code, Name, Budget) VALUES(59, \u001B[39m\u001B[38;5;124m'\u001B[39m\u001B[38;5;124mHuman Resources\u001B[39m\u001B[38;5;124m'\u001B[39m\u001B[38;5;124m, 240000);\u001B[39m\u001B[38;5;124m\"\u001B[39m)\n",
      "\u001B[1;31mIntegrityError\u001B[0m: UNIQUE constraint failed: Departments.Code"
     ]
    }
   ],
   "source": [
    "import sqlite3\n",
    "import pandas as pd\n",
    "\n",
    "conn = sqlite3.connect('SQLite_Python.db')\n",
    "\n",
    "# Create a cursor\n",
    "cur = conn.cursor()\n",
    "\n",
    "# Create tables\n",
    "cur.execute('''CREATE TABLE IF NOT EXISTS Departments (\n",
    "  Code INTEGER PRIMARY KEY,\n",
    "  Name varchar(255) NOT NULL ,\n",
    "  Budget decimal NOT NULL)\n",
    "''')\n",
    "cur.execute('''CREATE TABLE IF NOT EXISTS Employees (\n",
    "  SSN INTEGER PRIMARY KEY,\n",
    "  Name varchar(255) NOT NULL ,\n",
    "  LastName varchar(255) NOT NULL ,\n",
    "  Department INTEGER NOT NULL ,\n",
    "  foreign key (department) references Departments(Code)\n",
    ")''')\n",
    "\n",
    "# Insert the SQL commands\n",
    "cur.execute(\"INSERT INTO Departments(Code, Name, Budget) VALUES(14, 'IT', 65000);\")\n",
    "cur.execute(\"INSERT INTO Departments(Code, Name, Budget) VALUES(37, 'Accounting', 15000);\")\n",
    "cur.execute(\"INSERT INTO Departments(Code, Name, Budget) VALUES(59, 'Human Resources', 240000);\")\n",
    "cur.execute(\"INSERT INTO Departments(Code, Name, Budget) VALUES(77, 'Research', 55000);\")\n",
    "cur.execute(\"INSERT INTO Employees(SSN, Name, LastName, Department) VALUES('123234877', 'Michael', 'Rogers', 14);\")\n",
    "cur.execute(\"INSERT INTO Employees(SSN, Name, LastName, Department) VALUES('152934485', 'Anand', 'Manikutty', 14);\")\n",
    "cur.execute(\"INSERT INTO Employees(SSN, Name, LastName, Department) VALUES('222364883', 'Carol', 'Smith', 37);\")\n",
    "cur.execute(\"INSERT INTO Employees(SSN, Name, LastName, Department) VALUES('326587417', 'Joe', 'Stevens', 37);\")\n",
    "cur.execute(\"INSERT INTO Employees(SSN, Name, LastName, Department) VALUES('332154719', 'Mary-Anne', 'Foster', 14);\")\n",
    "cur.execute(\"INSERT INTO Employees(SSN, Name, LastName, Department) VALUES('332569843', 'George', 'ODonnell', 77);\")\n",
    "cur.execute(\"INSERT INTO Employees(SSN, Name, LastName, Department) VALUES('546523478', 'John', 'Doe', 59);\")\n",
    "cur.execute(\"INSERT INTO Employees(SSN, Name, LastName, Department) VALUES('631231482', 'David', 'Smith', 77);\")\n",
    "cur.execute(\"INSERT INTO Employees(SSN, Name, LastName, Department) VALUES('654873219', 'Zacary', 'Efron', 59);\")\n",
    "cur.execute(\"INSERT INTO Employees(SSN, Name, LastName, Department) VALUES('745685214', 'Eric', 'Goldsmith', 59);\")\n",
    "cur.execute(\"INSERT INTO Employees(SSN, Name, LastName, Department) VALUES('845657245', 'Elizabeth', 'Doe', 14);\")\n",
    "cur.execute(\"INSERT INTO Employees(SSN, Name, LastName, Department) VALUES('845657246', 'Kumar', 'Swamy', 14);\")\n",
    "\n",
    "# -- 2.1 Select the last name of all employees.\n",
    "cur.execute('select LastName from Employees')\n",
    "# -- 2.2 Select the last name of all employees, without duplicates.\n",
    "# -- 2.3 Select all the data of employees whose last name is \"Smith\".\n",
    "# -- 2.4 Select all the data of employees whose last name is \"Smith\" or \"Doe\".\n",
    "# -- 2.5 Select all the data of employees that work in department 14.\n",
    "# -- 2.6 Select all the data of employees that work in department 37 or department 77.\n",
    "# -- 2.7 Select all the data of employees whose last name begins with an \"S\".\n",
    "# -- 2.8 Select the sum of all the departments' budgets.\n",
    "# -- 2.9 Select the number of employees in each department (you only need to show the department code and the number of employees).\n",
    "# -- 2.10 Select all the data of employees, including each employee's department's data.\n",
    "# -- 2.11 Select the name and last name of each employee, along with the name and budget of the employee's department.\n",
    "# -- 2.12 Select the name and last name of employees working for departments with a budget greater than $60,000.\n",
    "# -- 2.13 Select the departments with a budget larger than the average budget of all the departments.\n",
    "# -- 2.14 Select the names of departments with more than two employees.\n",
    "# -- 2.15 Very Important - Select the name and last name of employees working for departments with second lowest budget.\n",
    "# -- 2.16  Add a new department called \"Quality Assurance\", with a budget of $40,000 and departmental code 11.\n",
    "# -- And Add an employee called \"Mary Moore\" in that department, with SSN 847-21-9811.\n",
    "# -- 2.17 Reduce the budget of all departments by 10%.\n",
    "# -- 2.18 Reassign all employees from the Research department (code 77) to the IT department (code 14).\n",
    "# -- 2.19 Delete from the table all employees in the IT department (code 14).\n",
    "# -- 2.20 Delete from the table all employees who work in departments with a budget greater than or equal to $60,000.\n",
    "# -- 2.21 Delete from the table all employees.\n",
    "\n",
    "cur.execute('')\n",
    "lines = cur.fetchall()\n",
    "query = pd.DataFrame(list(line) for line in lines)\n",
    "print(query)\n",
    "\n",
    "# Commit our command\n",
    "conn.commit()\n",
    "# Close our connection\n",
    "conn.close()"
   ],
   "metadata": {
    "collapsed": false,
    "ExecuteTime": {
     "end_time": "2023-06-01T01:03:20.678641600Z",
     "start_time": "2023-06-01T01:03:20.647437Z"
    }
   }
  },
  {
   "cell_type": "code",
   "execution_count": null,
   "outputs": [],
   "source": [],
   "metadata": {
    "collapsed": false,
    "ExecuteTime": {
     "start_time": "2023-06-01T01:03:20.675641300Z"
    }
   }
  }
 ],
 "metadata": {
  "kernelspec": {
   "display_name": "Python 3",
   "language": "python",
   "name": "python3"
  },
  "language_info": {
   "codemirror_mode": {
    "name": "ipython",
    "version": 2
   },
   "file_extension": ".py",
   "mimetype": "text/x-python",
   "name": "python",
   "nbconvert_exporter": "python",
   "pygments_lexer": "ipython2",
   "version": "2.7.6"
  }
 },
 "nbformat": 4,
 "nbformat_minor": 0
}
